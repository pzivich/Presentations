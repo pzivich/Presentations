{
 "cells": [
  {
   "cell_type": "markdown",
   "id": "99416812",
   "metadata": {},
   "source": [
    "# M-estimation\n",
    "This notebook walksthrough the examples provided in the \"A Survey of Estimating Functions\" section of the presentation"
   ]
  },
  {
   "cell_type": "code",
   "execution_count": 1,
   "id": "21d6d892",
   "metadata": {},
   "outputs": [],
   "source": [
    "import numpy as np\n",
    "import pandas as pd\n",
    "import patsy\n",
    "import matplotlib.pyplot as plt\n",
    "%matplotlib inline\n",
    "\n",
    "from delicatessen import MEstimator\n",
    "from delicatessen.estimating_equations import (ee_regression, ee_robust_regression, ee_ridge_regression,\n",
    "                                               ee_3p_logistic, ee_effective_dose_delta,\n",
    "                                               ee_aft_weibull)\n",
    "from delicatessen.data import load_robust_regress, load_inderjit\n",
    "from delicatessen.utilities import inverse_logit"
   ]
  },
  {
   "cell_type": "markdown",
   "id": "8b4c000b",
   "metadata": {},
   "source": [
    "## Mean"
   ]
  },
  {
   "cell_type": "code",
   "execution_count": 2,
   "id": "930f3161",
   "metadata": {},
   "outputs": [],
   "source": [
    "y = np.array([1, 5, 3, 7, 24])"
   ]
  },
  {
   "cell_type": "markdown",
   "id": "d9ef238a",
   "metadata": {},
   "source": [
    "### Simple Mean"
   ]
  },
  {
   "cell_type": "code",
   "execution_count": 3,
   "id": "03488892",
   "metadata": {},
   "outputs": [
    {
     "name": "stdout",
     "output_type": "stream",
     "text": [
      "[8.]\n",
      "[[13.59999775]]\n"
     ]
    }
   ],
   "source": [
    "def simple_mean(theta):\n",
    "    return y - theta\n",
    "\n",
    "\n",
    "estr = MEstimator(simple_mean, init=[0, ])\n",
    "estr.estimate()\n",
    "\n",
    "print(estr.theta)\n",
    "print(estr.variance)"
   ]
  },
  {
   "cell_type": "markdown",
   "id": "f872c780",
   "metadata": {},
   "source": [
    "### Robust Mean"
   ]
  },
  {
   "cell_type": "code",
   "execution_count": 4,
   "id": "5919289c",
   "metadata": {},
   "outputs": [
    {
     "name": "stdout",
     "output_type": "stream",
     "text": [
      "[5.]\n",
      "[[3.26530558]]\n"
     ]
    }
   ],
   "source": [
    "def robust_mean(theta):\n",
    "    k = 4\n",
    "    ee_rm = y - theta\n",
    "    ee_rm = np.where(ee_rm > k, k, ee_rm)\n",
    "    ee_rm = np.where(ee_rm < -k, -k, ee_rm)\n",
    "    return ee_rm\n",
    "\n",
    "\n",
    "estr = MEstimator(robust_mean, init=[6, ])\n",
    "estr.estimate()\n",
    "\n",
    "print(estr.theta)\n",
    "print(estr.variance)"
   ]
  },
  {
   "cell_type": "markdown",
   "id": "f59a80de",
   "metadata": {},
   "source": [
    "As seen in the results, the robust mean is less sensitive to the outlier (the robust mean is 'closer' to the other observations). Additionally, the estimated variance is substantially smaller (another benefit of the robust mean)."
   ]
  },
  {
   "cell_type": "markdown",
   "id": "b5719a34",
   "metadata": {},
   "source": [
    "## Regression\n",
    "To start with, we will use some simulated data to showcase simple linear regression and robust linear regression. Here, we will regress weight as a function of height"
   ]
  },
  {
   "cell_type": "code",
   "execution_count": 5,
   "id": "2666114b",
   "metadata": {},
   "outputs": [
    {
     "data": {
      "image/png": "[encoded data removed]",
      "text/plain": [
       "<Figure size 432x288 with 1 Axes>"
      ]
     },
     "metadata": {
      "needs_background": "light"
     },
     "output_type": "display_data"
    }
   ],
   "source": [
    "# Loading and setting up the data\n",
    "d = load_robust_regress(outlier=True)      # Load the corresponding data\n",
    "x = d[:, 0]                                # Extract the independent variable\n",
    "y = d[:, 1]                                # Extract the dependent variable\n",
    "X = np.vstack((np.ones(x.shape[0]), x)).T  # Generate array of intercept and X values\n",
    "\n",
    "# Scatter plot of the available data\n",
    "plt.scatter(x, y, s=40, c='gray', edgecolors='k', label=None, zorder=4)\n",
    "plt.xlabel(\"Height (cm)\")\n",
    "plt.ylabel(\"Weight (kg)\")\n",
    "plt.tight_layout()"
   ]
  },
  {
   "cell_type": "markdown",
   "id": "ad1b180e",
   "metadata": {},
   "source": [
    "As seen, the data point with a height below 160 seems to be an outlier (I generated the data here, so I know that data point *is* an outlier for the mechanism).\n",
    "\n",
    "### Simple Regression"
   ]
  },
  {
   "cell_type": "code",
   "execution_count": 6,
   "id": "115ed6e9",
   "metadata": {},
   "outputs": [],
   "source": [
    "def simple_regression(theta):\n",
    "    return ee_regression(theta=theta,\n",
    "                         X=X,\n",
    "                         y=y,\n",
    "                         model='linear')\n",
    "\n",
    "\n",
    "# Linear regression with the outlier\n",
    "sreg = MEstimator(simple_regression, \n",
    "                  init=[0., 0.])\n",
    "sreg.estimate(solver='lm')"
   ]
  },
  {
   "cell_type": "code",
   "execution_count": 7,
   "id": "37b65d38",
   "metadata": {},
   "outputs": [
    {
     "data": {
      "image/png": "[encoded data removed]",
      "text/plain": [
       "<Figure size 432x288 with 1 Axes>"
      ]
     },
     "metadata": {
      "needs_background": "light"
     },
     "output_type": "display_data"
    }
   ],
   "source": [
    "# Plot of regression results\n",
    "xlin = np.linspace(159, 170, 100)\n",
    "\n",
    "plt.plot(xlin, sreg.theta[0] + xlin*sreg.theta[1], '-', color='red')\n",
    "plt.scatter(x, y, s=40, c='gray', edgecolors='k', label=None, zorder=4)\n",
    "plt.xlabel(\"Height (cm)\")\n",
    "plt.ylabel(\"Weight (kg)\")\n",
    "plt.tight_layout()"
   ]
  },
  {
   "cell_type": "markdown",
   "id": "87e30d1f",
   "metadata": {},
   "source": [
    "### Robust Regression"
   ]
  },
  {
   "cell_type": "code",
   "execution_count": 8,
   "id": "d5570ad5",
   "metadata": {},
   "outputs": [],
   "source": [
    "def robust_regression(theta):\n",
    "    return ee_robust_regression(theta=theta,\n",
    "                                X=X,\n",
    "                                y=y,\n",
    "                                model='linear',\n",
    "                                k=1.345)\n",
    "\n",
    "\n",
    "# Linear regression with the outlier\n",
    "rreg = MEstimator(robust_regression, \n",
    "                  init=sreg.theta)     # Here we use the previous as initial values\n",
    "rreg.estimate(solver='lm')"
   ]
  },
  {
   "cell_type": "code",
   "execution_count": 9,
   "id": "6d89f4b8",
   "metadata": {},
   "outputs": [
    {
     "data": {
      "image/png": "[encoded data removed]",
      "text/plain": [
       "<Figure size 432x288 with 1 Axes>"
      ]
     },
     "metadata": {
      "needs_background": "light"
     },
     "output_type": "display_data"
    }
   ],
   "source": [
    "# Plot of regression results\n",
    "plt.plot(xlin, rreg.theta[0] + xlin*rreg.theta[1], '-', color='blue', label='Robust')\n",
    "plt.plot(xlin, sreg.theta[0] + xlin*sreg.theta[1], '-', color='red', label='Simple')\n",
    "plt.scatter(x, y, s=40, c='gray', edgecolors='k', label=None, zorder=4)\n",
    "plt.xlabel(\"Height (cm)\")\n",
    "plt.ylabel(\"Weight (kg)\")\n",
    "plt.legend()\n",
    "plt.tight_layout()"
   ]
  },
  {
   "cell_type": "markdown",
   "id": "4cab1211",
   "metadata": {},
   "source": [
    "Here, the red line (simple linear regression) is pulled up to the outlier on the left. This means the right has to decrease to compensate for this change. As seen in the robust linear regression, the outlier has less influence on the overall slope of the line.\n",
    "\n",
    "### Penalized Regression\n",
    "Penalized regression can also be written as an estimating function. Below is an example with ridge-regression ($L_2$ penalty)"
   ]
  },
  {
   "cell_type": "code",
   "execution_count": 10,
   "id": "712bc884",
   "metadata": {},
   "outputs": [],
   "source": [
    "# Generating some data with noise and correlation\n",
    "n = 500\n",
    "data = pd.DataFrame()\n",
    "data['V'] = np.random.normal(size=n)\n",
    "data['W'] = np.random.normal(size=n)\n",
    "data['X'] = data['W'] + np.random.normal(scale=0.25, size=n)\n",
    "data['Z'] = np.random.normal(size=n)\n",
    "data['Y'] = 0.5 + 2 * data['W'] - 1 * data['Z'] + np.random.normal(loc=0, size=n)\n",
    "data['intercept'] = 1"
   ]
  },
  {
   "cell_type": "code",
   "execution_count": 11,
   "id": "490415c8",
   "metadata": {},
   "outputs": [
    {
     "name": "stdout",
     "output_type": "stream",
     "text": [
      "Simple: [ 0.53677675 -0.04373764  2.0747961  -0.09571196 -0.98159361]\n"
     ]
    }
   ],
   "source": [
    "def simple_regression(theta):\n",
    "    x, y = data[['intercept', 'V', 'W', 'X', 'Z']], data['Y']\n",
    "    return ee_regression(theta=theta, X=x, y=y, \n",
    "                         model='linear')\n",
    "\n",
    "estr = MEstimator(simple_regression, init=[0.01, 0.01, 0.01, 0.01, 0.01])\n",
    "estr.estimate(solver='lm', maxiter=5000)\n",
    "print('Simple:', estr.theta)"
   ]
  },
  {
   "cell_type": "code",
   "execution_count": 12,
   "id": "6bd5b03a",
   "metadata": {},
   "outputs": [
    {
     "name": "stdout",
     "output_type": "stream",
     "text": [
      "Ridge: [ 0.53873128 -0.0379371   1.62374835  0.31866021 -0.95564888]\n"
     ]
    }
   ],
   "source": [
    "def ridge_regression(theta):\n",
    "    x, y = data[['intercept', 'V', 'W', 'X', 'Z']], data['Y']\n",
    "    return ee_ridge_regression(theta=theta, X=x, y=y, model='linear',\n",
    "                               penalty=[0., 10., 10., 10., 10.],\n",
    "                               center=0)\n",
    "\n",
    "estr = MEstimator(ridge_regression, init=[0.01, 0.01, 0.01, 0.01, 0.01])\n",
    "estr.estimate(solver='lm', maxiter=5000)\n",
    "print('Ridge:', estr.theta)"
   ]
  },
  {
   "cell_type": "markdown",
   "id": "ca1096ff",
   "metadata": {},
   "source": [
    "As shown, the parameters shrink towards zero with ridge regression.\n",
    "\n",
    "### 3-Parameter Logistic Regression\n",
    "A separate type of regression is a variation on logistic models for estimating dose-response curves. These model have parameters for the upper bound on the response, the lower bound on the response, the 50th percentile effective dose, and the steepness of the dose-response curve.\n",
    "\n",
    "The following example estimates the dose-response curve for herbicide on root length. Here, a 3-parameter logistic model is estimated (since the minimum root length is zero)."
   ]
  },
  {
   "cell_type": "code",
   "execution_count": 13,
   "id": "c874092f",
   "metadata": {},
   "outputs": [],
   "source": [
    "d = load_inderjit()"
   ]
  },
  {
   "cell_type": "code",
   "execution_count": 14,
   "id": "0bda602e",
   "metadata": {},
   "outputs": [],
   "source": [
    "def log3p(theta):\n",
    "    return ee_3p_logistic(theta=theta[0:3], \n",
    "                          X=d[:, 1], y=d[:, 0], \n",
    "                          lower=0)\n",
    "\n",
    "mest = MEstimator(log3p, init=[2, 1, 10])\n",
    "mest.estimate(solver='lm', maxiter=2000)\n",
    "ci_theta = mest.confidence_intervals()"
   ]
  },
  {
   "cell_type": "code",
   "execution_count": 15,
   "id": "cad5bd04",
   "metadata": {},
   "outputs": [
    {
     "name": "stdout",
     "output_type": "stream",
     "text": [
      "ED(50)\n",
      "----------------------------------\n",
      "Est:    3.26\n",
      "95% CI: [2.74 3.78]\n",
      "----------------------------------\n",
      "Steepness\n",
      "----------------------------------\n",
      "Est:    2.47\n",
      "95% CI: [1.9  3.04]\n",
      "----------------------------------\n",
      "Upper Limit\n",
      "----------------------------------\n",
      "Est:    7.86\n",
      "95% CI: [7.55 8.16]\n"
     ]
    }
   ],
   "source": [
    "print(\"ED(50)\")\n",
    "print(\"----------------------------------\")\n",
    "print(\"Est:   \", np.round(mest.theta[0], 2))\n",
    "print(\"95% CI:\", np.round(ci_theta[0], 2))\n",
    "print(\"----------------------------------\")\n",
    "print(\"Steepness\")\n",
    "print(\"----------------------------------\")\n",
    "print(\"Est:   \", np.round(mest.theta[1], 2))\n",
    "print(\"95% CI:\", np.round(ci_theta[1], 2))\n",
    "print(\"----------------------------------\")\n",
    "print(\"Upper Limit\")\n",
    "print(\"----------------------------------\")\n",
    "print(\"Est:   \", np.round(mest.theta[2], 2))\n",
    "print(\"95% CI:\", np.round(ci_theta[2], 2))"
   ]
  },
  {
   "cell_type": "markdown",
   "id": "f35babb6",
   "metadata": {},
   "source": [
    "It is also easy to get the effective concentration at other percentiles (and the corresponding confidence intervals via the sandwich variance). The effective concentration at the other percentiles is simply a transformation of the logistic model parameters."
   ]
  },
  {
   "cell_type": "code",
   "execution_count": 16,
   "id": "e52b52f1",
   "metadata": {},
   "outputs": [],
   "source": [
    "def log3ped(theta):\n",
    "    # Estimating equations for the 3PL model\n",
    "    pl3 = ee_3p_logistic(theta=theta[0:3], \n",
    "                         X=d[:, 1], y=d[:, 0], \n",
    "                         lower=0)\n",
    "    # Estimating equations for the effective concentrations\n",
    "    ed20 = ee_effective_dose_delta(theta[3], y=d[:, 0], delta=0.20,\n",
    "                                   steepness=theta[0], ed50=theta[1],\n",
    "                                   lower=0, upper=theta[2])\n",
    "    return np.vstack((pl3,\n",
    "                      ed20))\n",
    "\n",
    "mest = MEstimator(log3ped, init=[3.3, 2.5, 7.9, 1])\n",
    "mest.estimate(solver='lm', maxiter=2000)\n",
    "ci_theta = mest.confidence_intervals()"
   ]
  },
  {
   "cell_type": "code",
   "execution_count": 17,
   "id": "38b5a200",
   "metadata": {},
   "outputs": [
    {
     "name": "stdout",
     "output_type": "stream",
     "text": [
      "ED(20)\n",
      "----------------------------------\n",
      "Est:    1.86\n",
      "95% CI: [1.58 2.14]\n"
     ]
    }
   ],
   "source": [
    "print(\"ED(20)\")\n",
    "print(\"----------------------------------\")\n",
    "print(\"Est:   \", np.round(mest.theta[3], 2))\n",
    "print(\"95% CI:\", np.round(ci_theta[3], 2))"
   ]
  },
  {
   "cell_type": "markdown",
   "id": "c655125e",
   "metadata": {},
   "source": [
    "## Causal Methods\n",
    "A variety of causal inference methods can also be written as M-estimators. Here, we will go through several estimators. I will use the example from Morris et al. (2022), which uses data from Wilson et al. (2017). The Wilson data can be downloaded from the *PLOS Medicine* article."
   ]
  },
  {
   "cell_type": "code",
   "execution_count": 18,
   "id": "2a5ef629",
   "metadata": {},
   "outputs": [],
   "source": [
    "d = pd.read_csv(\"data/wilson.csv\")"
   ]
  },
  {
   "cell_type": "code",
   "execution_count": 19,
   "id": "a09950fb",
   "metadata": {},
   "outputs": [],
   "source": [
    "ds = d.dropna().copy()\n",
    "\n",
    "# Outcome\n",
    "y = np.asarray(ds['anytest'])\n",
    "\n",
    "# Treatment\n",
    "a = np.asarray(ds['group'])\n",
    "\n",
    "# Observed covariates\n",
    "ps_covs = patsy.dmatrix(\"age + C(gender) + C(msm) + C(partners) + C(ethnicgrp)\", \n",
    "                        ds)\n",
    "out_covs = patsy.dmatrix(\"group + age + C(gender) + C(msm) + C(partners) + C(ethnicgrp)\", \n",
    "                         ds)\n",
    "\n",
    "# Setting group=a and getting matrices for g-computation\n",
    "dsa = ds.copy()\n",
    "dsa['group'] = 1\n",
    "out1_covs = patsy.dmatrix(\"group + age + C(gender) + C(msm) + C(partners) + C(ethnicgrp)\", \n",
    "                          dsa)\n",
    "dsa['group'] = 0\n",
    "out0_covs = patsy.dmatrix(\"group + age + C(gender) + C(msm) + C(partners) + C(ethnicgrp)\", \n",
    "                          dsa)"
   ]
  },
  {
   "cell_type": "markdown",
   "id": "39746edc",
   "metadata": {},
   "source": [
    "### Inverse Probability Weighting"
   ]
  },
  {
   "cell_type": "code",
   "execution_count": 20,
   "id": "7ec771d1",
   "metadata": {},
   "outputs": [
    {
     "name": "stdout",
     "output_type": "stream",
     "text": [
      "RD:     0.261\n",
      "Var:    0.0214\n",
      "95% CI: [0.219 0.303]\n"
     ]
    }
   ],
   "source": [
    "def horwitz_thompson(theta):\n",
    "    # Extracting parameters from theta for ease\n",
    "    risk_diff = theta[0]\n",
    "    risk_a1 = theta[1]\n",
    "    risk_a0 = theta[2]\n",
    "    beta = theta[3:]\n",
    "    \n",
    "    # Estimating nuisance model (outcome regression)\n",
    "    ee_log = ee_regression(theta=beta,         # beta coefficients\n",
    "                           X=ps_covs,  # W covariates\n",
    "                           y=a,\n",
    "                           model='logistic')               # a\n",
    "    pi = inverse_logit(np.dot(ps_covs, beta))\n",
    "   \n",
    "    # Calculating weighted pieces\n",
    "    ee_ya1 = (a*y) / pi - risk_a1\n",
    "    ee_ya0 = ((1-a)*y) / (1 - pi) - risk_a0\n",
    "    ee_risk_diff = np.ones(y.shape[0])*(risk_a1 - risk_a0) - risk_diff\n",
    "\n",
    "    return np.vstack((ee_risk_diff,  # risk difference\n",
    "                      ee_ya1,\n",
    "                      ee_ya0,\n",
    "                      ee_log))      # logistic model\n",
    "\n",
    "\n",
    "estr = MEstimator(horwitz_thompson, \n",
    "                  init=[0., 0.5, 0.5] + [0, ]*ps_covs.shape[1])\n",
    "estr.estimate(solver='lm')\n",
    "\n",
    "print(\"RD:    \", np.round(estr.theta[0], 3))\n",
    "print(\"Var:   \", np.round(np.sqrt(estr.variance[0, 0]), 4))\n",
    "print(\"95% CI:\", np.round(estr.confidence_intervals()[0], 3))"
   ]
  },
  {
   "cell_type": "markdown",
   "id": "1e72d8ff",
   "metadata": {},
   "source": [
    "It is also trivial to update the estimating functions for the Hajek."
   ]
  },
  {
   "cell_type": "code",
   "execution_count": 21,
   "id": "e11f2bd2",
   "metadata": {},
   "outputs": [
    {
     "name": "stdout",
     "output_type": "stream",
     "text": [
      "RD:     0.261\n",
      "Var:    0.0214\n",
      "95% CI: [0.219 0.303]\n"
     ]
    }
   ],
   "source": [
    "def hajek(theta):\n",
    "    # Extracting parameters from theta for ease\n",
    "    risk_diff = theta[0]\n",
    "    risk_a1 = theta[1]\n",
    "    risk_a0 = theta[2]\n",
    "    beta = theta[3:]\n",
    "    \n",
    "    # Estimating nuisance model (outcome regression)\n",
    "    ee_log = ee_regression(theta=beta,\n",
    "                           X=ps_covs,\n",
    "                           y=a,\n",
    "                           model='logistic')\n",
    "    pi = inverse_logit(np.dot(ps_covs, beta))\n",
    "   \n",
    "    ee_ya1 = (y - risk_a1) * (a/pi)           # Update to Hajek is here\n",
    "    ee_ya0 = (y - risk_a0) * ((1-a)/(1-pi))   # Update to Hajek is here\n",
    "    ee_risk_diff = np.ones(y.shape[0])*(risk_a1 - risk_a0) - risk_diff\n",
    "\n",
    "    return np.vstack((ee_risk_diff,\n",
    "                      ee_ya1,\n",
    "                      ee_ya0,\n",
    "                      ee_log,))\n",
    "\n",
    "\n",
    "estr = MEstimator(hajek, \n",
    "                  init=[0., 0.5, 0.5] + [0, ]*ps_covs.shape[1])\n",
    "estr.estimate(solver='lm')\n",
    "\n",
    "print(\"RD:    \", np.round(estr.theta[0], 3))\n",
    "print(\"Var:   \", np.round(np.sqrt(estr.variance[0, 0]), 4))\n",
    "print(\"95% CI:\", np.round(estr.confidence_intervals()[0], 3))"
   ]
  },
  {
   "cell_type": "markdown",
   "id": "066c09dd",
   "metadata": {},
   "source": [
    "### G-computation"
   ]
  },
  {
   "cell_type": "code",
   "execution_count": 22,
   "id": "b42850fc",
   "metadata": {},
   "outputs": [
    {
     "name": "stdout",
     "output_type": "stream",
     "text": [
      "RD:     0.26\n",
      "Var:    0.0215\n",
      "95% CI: [0.218 0.302]\n"
     ]
    }
   ],
   "source": [
    "def gcomputation(theta):\n",
    "    # Extracting parameters from theta for ease\n",
    "    risk_diff = theta[0]\n",
    "    risk_a1 = theta[1]\n",
    "    risk_a0 = theta[2]\n",
    "    beta = theta[3:]\n",
    "    \n",
    "    # Estimating nuisance model (outcome regression)\n",
    "    ee_log = ee_regression(theta=beta,      # beta coefficients\n",
    "                           X=out_covs,  # X covariates\n",
    "                           y=y,             # y\n",
    "                           model='logistic')\n",
    "\n",
    "    # Generating predicted outcome values\n",
    "    ee_ya1 = inverse_logit(np.dot(out1_covs, beta)) - risk_a1\n",
    "    ee_ya0 = inverse_logit(np.dot(out0_covs, beta)) - risk_a0\n",
    "    \n",
    "    # Estimating interest parameters\n",
    "    ee_risk_diff = np.ones(y.shape[0])*(risk_a1 - risk_a0) - risk_diff\n",
    "    \n",
    "    # Returning stacked estimating equations (order matters)\n",
    "    return np.vstack((ee_risk_diff,  # risk difference\n",
    "                      ee_ya1,        # risk a=1\n",
    "                      ee_ya0,        # risk a=0\n",
    "                      ee_log,))      # logistic model\n",
    "\n",
    "\n",
    "estr = MEstimator(gcomputation, \n",
    "                  init=[0., 0.5, 0.5] + [0, ]*out_covs.shape[1])\n",
    "estr.estimate(solver='lm')\n",
    "\n",
    "print(\"RD:    \", np.round(estr.theta[0], 3))\n",
    "print(\"Var:   \", np.round(np.sqrt(estr.variance[0, 0]), 4))\n",
    "print(\"95% CI:\", np.round(estr.confidence_intervals()[0], 3))"
   ]
  },
  {
   "cell_type": "markdown",
   "id": "c0ba682c",
   "metadata": {},
   "source": [
    "### Augmented Inverse Probability Weighting"
   ]
  },
  {
   "cell_type": "code",
   "execution_count": 23,
   "id": "019e5298",
   "metadata": {},
   "outputs": [
    {
     "name": "stdout",
     "output_type": "stream",
     "text": [
      "RD:     0.261\n",
      "Var:    0.0215\n",
      "95% CI: [0.219 0.303]\n"
     ]
    }
   ],
   "source": [
    "def aipw(theta):\n",
    "    # Extracting parameters from theta for ease\n",
    "    risk_diff = theta[0]\n",
    "    risk_a1 = theta[1]\n",
    "    risk_a0 = theta[2]\n",
    "    alpha = theta[3: 3 + ps_covs.shape[1]]\n",
    "    beta = theta[3 + ps_covs.shape[1]:]\n",
    "    \n",
    "    # Estimating nuisance model (propensity scores)\n",
    "    ee_ps = ee_regression(theta=alpha,         # beta coefficients\n",
    "                           X=ps_covs,  # W covariates\n",
    "                           y=a,\n",
    "                           model='logistic')               # a\n",
    "    pi = inverse_logit(np.dot(ps_covs, alpha))\n",
    "   \n",
    "    # Estimating nuisance model (outcome regression)\n",
    "    ee_ya = ee_regression(theta=beta,      # beta coefficients\n",
    "                           X=out_covs,  # X covariates\n",
    "                           y=y,             # y\n",
    "                           model='logistic')\n",
    "    ya1 = inverse_logit(np.dot(out1_covs, beta))\n",
    "    ya0 = inverse_logit(np.dot(out0_covs, beta))\n",
    "    \n",
    "    # Calculating weighted pieces\n",
    "    ee_ya1 = (y*a/pi - ya1*(a-pi)/pi) - risk_a1                    # Calculating \\tilde{Y}(a=1)\n",
    "    ee_ya0 = (y*(1-a)/(1-pi) + ya0*(a-pi)/(1-pi)) - risk_a0        # Calculating \\tilde{Y}(a=0)\n",
    "    ee_risk_diff = np.ones(y.shape[0])*(risk_a1 - risk_a0) - risk_diff\n",
    "\n",
    "    return np.vstack((ee_risk_diff,  # risk difference\n",
    "                      ee_ya1,\n",
    "                      ee_ya0,\n",
    "                      ee_ps,\n",
    "                      ee_ya))      # logistic model\n",
    "\n",
    "init_vals = [0., 0.5, 0.5] + [0, ]*ps_covs.shape[1] + [0, ]*out_covs.shape[1]\n",
    "estr = MEstimator(aipw, \n",
    "                  init=init_vals)\n",
    "estr.estimate(solver='lm')\n",
    "\n",
    "print(\"RD:    \", np.round(estr.theta[0], 3))\n",
    "print(\"Var:   \", np.round(np.sqrt(estr.variance[0, 0]), 4))\n",
    "print(\"95% CI:\", np.round(estr.confidence_intervals()[0], 3))"
   ]
  },
  {
   "cell_type": "markdown",
   "id": "f0c00182",
   "metadata": {},
   "source": [
    "## Fusion Designs\n",
    "For the final set of examples, we look at some recent work in fusion designs. First, we will re-create the first example from Cole et al. (2022). \n",
    "\n",
    "### Transporting to a Population\n",
    "The first example considers transporting the mean to a new population. See Cole et al. (2022) for the identification assumptions and further detail. Here, we will load the corresponding data"
   ]
  },
  {
   "cell_type": "code",
   "execution_count": 24,
   "id": "c207b0a8",
   "metadata": {},
   "outputs": [],
   "source": [
    "d = pd.read_csv(\"data/cole.csv\")\n",
    "d['delta'] = np.where(d['s'] == 1, d['delta'], 99)\n",
    "d['male-old'] = d['male']*d['old']\n",
    "d['constant'] = 1"
   ]
  },
  {
   "cell_type": "code",
   "execution_count": 25,
   "id": "3639c87d",
   "metadata": {},
   "outputs": [],
   "source": [
    "w = np.asarray(d[['constant', 'male', 'old', 'male-old']])\n",
    "s = np.asarray(d['s'])\n",
    "y = np.asarray(d['delta'])"
   ]
  },
  {
   "cell_type": "code",
   "execution_count": 26,
   "id": "cd02e0c2",
   "metadata": {},
   "outputs": [
    {
     "name": "stdout",
     "output_type": "stream",
     "text": [
      "Mean:   0.08\n",
      "95% CI: [0.058 0.101]\n"
     ]
    }
   ],
   "source": [
    "def psi(theta):\n",
    "    # Estimating weights\n",
    "    nuisance = ee_regression(theta=theta[1:],\n",
    "                             X=w, y=s,\n",
    "                             model='logistic')\n",
    "    pi = inverse_logit(np.dot(w, theta[1:]))\n",
    "    weight = np.where(s == 1, (1-pi)/pi, 0)\n",
    "\n",
    "    # Estimating inverse probability weighted mean\n",
    "    param = s*weight*(np.asarray(y) - theta[0])\n",
    "\n",
    "    # Returning stacked estimating equations\n",
    "    return np.vstack((param, nuisance))\n",
    "\n",
    "\n",
    "# Solving the stacked estimating equations\n",
    "estr = MEstimator(psi, init=[0., 0., 0., 0., 0.])\n",
    "estr.estimate(solver='lm')\n",
    "ci = estr.confidence_intervals()\n",
    "\n",
    "print(\"Mean:  \", np.round(estr.theta[0], 3))\n",
    "print(\"95% CI:\", np.round(ci[0], 3))"
   ]
  },
  {
   "cell_type": "markdown",
   "id": "de27332e",
   "metadata": {},
   "source": [
    "### Bridged Treatment Comparisons\n",
    "Another fusion design is bridged treatment comparisons. Bridged treatment comparisons use two data sources to compare treatments across sources. Further details are provided in Breskin et al. (2021) and Zivich et al. (2022). Here, we will recreate the ACTG 320 - ACTG 175 comparison presented in those papers. Here, we want to compare triple antiretroviral therapy (ART) to mono ART for the prevention of AIDS, death, or a large decline in CD4 (>50%). However, the ACTG 320 compared triple to dual and ACTG 175 compared dual to mono. Individually, the data sources cannot address the question of interest. Instead, we will fuse the trials together and compare triple to mono ART through dual. We will also look at the diagnostic proposed in Zivich et al. (2022).\n",
    "\n",
    "Unlike both of those papers, we will estimate the inverse probability of censoring weights using a accelerated failure time model (as opposed to the Cox proportional hazards model and Breslow estimator). This makes some additional parametric assumptions."
   ]
  },
  {
   "cell_type": "code",
   "execution_count": 27,
   "id": "1cccadae",
   "metadata": {},
   "outputs": [],
   "source": [
    "d = pd.read_csv(\"data/zivich.csv\")\n",
    "d = d.loc[(d['cd4'] >= 50) & (d['cd4'] <= 300)].copy()"
   ]
  },
  {
   "cell_type": "code",
   "execution_count": 28,
   "id": "aefb06f0",
   "metadata": {},
   "outputs": [],
   "source": [
    "s = np.asarray(d['study'])\n",
    "Xs = patsy.dmatrix(\"male + black + idu + age + age_rs0 + age_rs1 + age_rs2 + C(karnof_cat)\", d)\n",
    "Xc = patsy.dmatrix(\"C(art) + study + male + black + idu + age + age_rs0 + age_rs1 + age_rs2 + C(karnof_cat)\", d)[:, 1:]\n",
    "a = np.asarray(d['art'])\n",
    "delta = np.asarray(d['delta'])\n",
    "censor = np.asarray(d['censor'])\n",
    "t = np.asarray(d['t'])"
   ]
  },
  {
   "cell_type": "markdown",
   "id": "b906e5f1",
   "metadata": {},
   "source": [
    "This example also highlights a few different tricks. The bridged treatment comparison requires the estimation of a variety of different nuisance models and parameters of interest. To speed up the process, we will 'pre-wash' the nuisance model covariates. This involves estimating them, then plugging in those estimated values at the initial values for the root-finding procedure. This simplifies and speeds up the root-finding. Additionally, we will separately run an M-estimator for each 'jump' in our survival function. This again will minimize the number of parameters we need to solve for (making root-finding faster overall).\n",
    "\n",
    "#### Pre-washing Nuisance Parameters\n",
    "First, we will estimate the parameters for each nuisance model separately"
   ]
  },
  {
   "cell_type": "code",
   "execution_count": 29,
   "id": "8eef1fcc",
   "metadata": {},
   "outputs": [],
   "source": [
    "def psi_censor(theta):\n",
    "    # Estimating Weibull AFT for censoring probabilities\n",
    "    return ee_aft_weibull(theta=theta,\n",
    "                          X=Xc,\n",
    "                          delta=censor,\n",
    "                          t=t)\n",
    "\n",
    "\n",
    "def psi_sample(theta):\n",
    "    # Selection model for inverse odds weights\n",
    "    return ee_regression(theta=theta,\n",
    "                         X=Xs,\n",
    "                         y=s,\n",
    "                         model='logistic')\n",
    "\n",
    "\n",
    "def psi_treat(theta):\n",
    "    # Treatment probabilities (marginal estimates)\n",
    "    ee_mu_a2s1 = s*((a == 2) - theta[0])                       # Pr(A=2 | S=1)\n",
    "    ee_mu_a1s1 = s*((a == 1) - theta[1])                       # Pr(A=1 | S=1)\n",
    "    ee_mu_a1s0 = (1-s)*((a == 1) - theta[2])                   # Pr(A=1 | S=0)\n",
    "    ee_mu_a0s0 = (1-s)*((a == 0) - theta[3])                   # Pr(A=0 | S=0)\n",
    "    return np.vstack((ee_mu_a2s1, ee_mu_a1s1,\n",
    "                      ee_mu_a1s0, ee_mu_a0s0))\n",
    "\n",
    "\n",
    "# M-estimator for pre-washing all covariates\n",
    "init_vals = [6.69, 0.1, 0.2, 0., 0., -1.2, 0., 0., -0.09, 0., 0., 0., 0., 1.12]\n",
    "estr_c = MEstimator(psi_censor, init=init_vals)\n",
    "estr_c.estimate(solver='hybr', maxiter=10000, tolerance=1e-9)\n",
    "\n",
    "estr_s = MEstimator(psi_sample, init=[0., ]*10)\n",
    "estr_s.estimate(solver='hybr', tolerance=1e-9)\n",
    "\n",
    "estr_a = MEstimator(psi_treat, init=[0.5, 0.5, 0.5, 0.5])\n",
    "estr_a.estimate(solver='hybr', tolerance=1e-9)"
   ]
  },
  {
   "cell_type": "markdown",
   "id": "f5342fab",
   "metadata": {},
   "source": [
    "These estimated parameters will be fed into the following M-estimators as the initial values\n",
    "\n",
    "#### Diagnostic and Parameter of Interest\n",
    "First, we will estimate the diagnostic. This will be done by estimating a unique M-estimator for each jump in the risk function. As we are using the weighted EDF, we only need to evaluate at unique event times. We do this using a for-loop over the event times."
   ]
  },
  {
   "cell_type": "code",
   "execution_count": 30,
   "id": "9f94f857",
   "metadata": {},
   "outputs": [],
   "source": [
    "def pr_not_censored(time, X, mu, beta, gamma):\n",
    "    \"\"\"Function to calculate S(t) for a Weibull AFT model\"\"\"\n",
    "    gamma = np.exp(gamma)\n",
    "    lambd = np.exp(-1 * (mu + np.dot(X, beta)) * gamma)\n",
    "    survival_t = np.exp(-1 * lambd * time**gamma)\n",
    "    return survival_t\n",
    "\n",
    "\n",
    "def bridge(theta):\n",
    "    \"\"\"Estimating functions to estimate the nuisance models (prior to generating risk function plots)\"\"\"\n",
    "    # Extracting coefficients for ease of reference\n",
    "    rd, diag, r2, r11, r10, r0 = theta[:6]                                       # Risk Difference at selected times\n",
    "    nuisance_parameters = theta[6:]                                              # Extract chunk of nuisance parameters\n",
    "    param_aft = nuisance_parameters[0:14]                                        # Parameters for the Pr(C | A,W) model\n",
    "    param_a2s1, param_a1s1, param_a1s0, param_a0s0 = nuisance_parameters[14:18]  # Parameters for the Pr(A | S) model\n",
    "    param_logit = nuisance_parameters[18:]                                       # Parameters for the Pr(S | W) model\n",
    "\n",
    "    # Selection model for inverse odds weights\n",
    "    ee_logit = ee_regression(theta=param_logit,\n",
    "                             X=Xs,\n",
    "                             y=s,                              # Logitistic model for the IOSW\n",
    "                             model='logistic')\n",
    "    pr_s1 = inverse_logit(np.dot(Xs, param_logit))             # Getting predicted probabilities\n",
    "    odds = pr_s1 / (1-pr_s1)                                   # Converting to IOSW\n",
    "    iosw = s*1 + (1-s)*odds                                    # Assigning IOSW\n",
    "\n",
    "    # Treatment probabilities (marginal estimates)\n",
    "    ee_mu_a2s1 = s*((a == 2) - param_a2s1)                       # Pr(A=2 | S=1)\n",
    "    ee_mu_a1s1 = s*((a == 1) - param_a1s1)                       # Pr(A=1 | S=1)\n",
    "    ee_mu_a1s0 = (1-s)*((a == 1) - param_a1s0)                   # Pr(A=1 | S=0)\n",
    "    ee_mu_a0s0 = (1-s)*((a == 0) - param_a0s0)                   # Pr(A=0 | S=0)\n",
    "    pr_a = (s*(a == 2)*param_a2s1 \n",
    "            + s*(a == 1)*param_a1s1 \n",
    "            + (1-s)*(a == 1)*param_a1s0 \n",
    "            + (1-s)*(a == 0)*param_a0s0)\n",
    "\n",
    "    # Estimating Weibull AFT for censoring probabilities\n",
    "    ee_aft = ee_aft_weibull(theta=param_aft,\n",
    "                            X=Xc,\n",
    "                            delta=censor,\n",
    "                            t=t)\n",
    "    pr_c = pr_not_censored(time=t, X=Xc, mu=param_aft[0], beta=param_aft[1:-1], gamma=param_aft[-1])\n",
    "\n",
    "    # Weighted EDF\n",
    "    tdelta = (t <= t_index) * delta\n",
    "    ee_r_a2_s1 = s * (((a == 2) * tdelta) / (pr_a * pr_c) - r2)\n",
    "    ee_r_a1_s1 = s * (((a == 1) * tdelta) / (pr_a * pr_c) - r11)\n",
    "    ee_r_a1_s0 = (1-s) * iosw * (((a == 1) * tdelta) / (pr_a * pr_c) - r10)\n",
    "    ee_r_a0_s0 = (1-s) * iosw * (((a == 0) * tdelta) / (pr_a * pr_c) - r0)\n",
    "\n",
    "    # Bridged diagnostic\n",
    "    ee_diag = np.ones(t.shape[0])*(r11 - r10) - diag\n",
    "\n",
    "    # Bridged parameter of interest\n",
    "    ee_brdg = np.ones(t.shape[0])*((r2 - r11) + (r10 - r0)) - rd\n",
    "\n",
    "    # Returning the stacked estimating function evaluations\n",
    "    return np.vstack((ee_brdg, ee_diag,\n",
    "                      ee_r_a2_s1, ee_r_a1_s1, ee_r_a1_s0, ee_r_a0_s0,\n",
    "                      ee_aft,\n",
    "                      ee_mu_a2s1, ee_mu_a1s1, ee_mu_a1s0, ee_mu_a0s0,\n",
    "                      ee_logit))\n",
    "\n",
    "\n",
    "# Generating info for creating the diagnostic plot\n",
    "event_t = [0, ] + sorted(np.unique(d.loc[d['delta'] == 1, 't'])) + [np.max(d['t'])]\n",
    "\n",
    "brdg_est, brdg_lcl, brdg_ucl = [], [], []\n",
    "diag_est, diag_lcl, diag_ucl = [], [], []\n",
    "init_bridge = [0, 0, 0.1, 0.1, 0.1, 0.1, ]\n",
    "\n",
    "for t_index in event_t:\n",
    "    init_vals = (init_bridge\n",
    "                 + list(estr_c.theta)\n",
    "                 + list(estr_a.theta)\n",
    "                 + list(estr_s.theta))\n",
    "    estr = MEstimator(bridge, init=init_vals)\n",
    "    estr.estimate(solver='hybr', maxiter=10000, tolerance=1e-8)\n",
    "\n",
    "    # Storing the output\n",
    "    brdg_est.append(estr.theta[0])\n",
    "    brdg_ci = estr.confidence_intervals()[0, :]\n",
    "    brdg_lcl.append(brdg_ci[0])\n",
    "    brdg_ucl.append(brdg_ci[1])\n",
    "\n",
    "    diag_est.append(estr.theta[1])\n",
    "    diag_ci = estr.confidence_intervals()[1, :]\n",
    "    diag_lcl.append(diag_ci[0])\n",
    "    diag_ucl.append(diag_ci[1])\n",
    "\n",
    "    # Update inits to current values (generally faster run-time)\n",
    "    init_bridge = list(estr.theta[:6])\n"
   ]
  },
  {
   "cell_type": "code",
   "execution_count": 31,
   "id": "ecb4025a",
   "metadata": {},
   "outputs": [
    {
     "data": {
      "image/png": "[encoded data removed]",
      "text/plain": [
       "<Figure size 486x324 with 4 Axes>"
      ]
     },
     "metadata": {
      "needs_background": "light"
     },
     "output_type": "display_data"
    }
   ],
   "source": [
    "# Generating 1-by-2 plot of the results\n",
    "f, ax = plt.subplots(1, 2, figsize=(6.75, 4.5))\n",
    "\n",
    "# Diagnostic plot\n",
    "ax[0].vlines(0, 0, 370, colors='gray', linestyles='--')\n",
    "ax[0].step(diag_est, [event_t[1], ] + event_t[2:] + [event_t[-1]], color='purple', where='post')\n",
    "ax[0].fill_betweenx(event_t, diag_lcl, diag_ucl, alpha=0.2, color='purple', step='post')\n",
    "ax[0].set_xlabel(\"Difference in Shared\")\n",
    "ax[0].set_ylabel(\"Time (days)\")\n",
    "ax[0].set_xlim([-0.2, 0.2])\n",
    "ax[0].set_ylim([0, 370])\n",
    "ax[0].spines['top'].set_visible(False)\n",
    "ax[0].spines['right'].set_visible(False)\n",
    "\n",
    "ax02 = ax[0].twiny()  # Duplicate the x-axis to create a separate label\n",
    "ax02.set_xlabel(\"Favors 320\" + \"\\t\".expandtabs() + \"Favors 175\", fontdict={\"size\": 10})\n",
    "ax02.set_xticks([])\n",
    "ax02.xaxis.set_ticks_position('bottom')\n",
    "ax02.xaxis.set_label_position('bottom')\n",
    "ax02.spines['bottom'].set_position(('outward', 36))\n",
    "ax02.spines['top'].set_visible(False)\n",
    "ax02.spines['right'].set_visible(False)\n",
    "ax[0].set_title(\"Diagnostic\")\n",
    "\n",
    "# Risk Difference of Interest plot\n",
    "ax[1].vlines(0, 0, 370, colors='gray', linestyles='--')\n",
    "ax[1].step(brdg_est, [event_t[1], ] + event_t[2:] + [event_t[-1]], color='mediumblue', where='post')\n",
    "ax[1].fill_betweenx(event_t, brdg_lcl, brdg_ucl, alpha=0.2, color='mediumblue', step='post')\n",
    "ax[1].set_xlabel(\"Risk Difference\")\n",
    "ax[1].set_xlim([-0.4, 0.4])\n",
    "ax[1].set_ylim([0, 370])\n",
    "ax[1].spines['top'].set_visible(False)\n",
    "ax[1].spines['right'].set_visible(False)\n",
    "\n",
    "ax12 = ax[1].twiny()  # Duplicate the x-axis to create a separate label\n",
    "ax12.set_xlabel(\"Favors Triple\" + \"\\t\".expandtabs() + \"Favors Mono  \", fontdict={\"size\": 10})\n",
    "ax12.set_xticks([])\n",
    "ax12.xaxis.set_ticks_position('bottom')\n",
    "ax12.xaxis.set_label_position('bottom')\n",
    "ax12.spines['bottom'].set_position(('outward', 36))\n",
    "ax12.spines['top'].set_visible(False)\n",
    "ax12.spines['right'].set_visible(False)\n",
    "ax[1].set_title(\"Interest Parameter\")\n",
    "\n",
    "plt.tight_layout()"
   ]
  },
  {
   "cell_type": "markdown",
   "id": "2afebec4",
   "metadata": {},
   "source": [
    "End of examples\n",
    "\n",
    "## References\n",
    "\n",
    "Breskin A, Cole SR, Edwards JK, Brookmeyer R, Eron JJ, & Adimora AA. (2021). Fusion designs and estimators for treatment effects. *Statistics in Medicine*, 40(13), 3124-3137.\n",
    "\n",
    "Cole SR, Edwards JK, Breskin A, Rosin S, Zivich PN, Shook-Sa BE, & Hudgens MG. (2022). Illustration of Two Fusion Designs and Estimators. *American Journal of Epidemiology*.\n",
    "\n",
    "Morris TP, Walker AS, Williamson, EJ et al. (2022) Planning a method for covariate adjustment in individually randomised trials: a practical guide. *Trials* 23, 328\n",
    "\n",
    "Wilson E, Free C, Morris TP, et al. (2017). Internet-accessed sexually transmitted infection (e-STI) testing and results service: a randomised, single-blind, controlled trial. *PLOS Medicine*, 14(12).\n",
    "\n",
    "Zivich PN, Cole SR, & Breskin A. (2021). Twister Plots for Time-to-Event Studies. *American Journal of Epidemiology*, 190(12), 2730-2731.\n",
    "\n",
    "Zivich PN, Cole SR, Edwards JK, Shook-Sa BE, Breskin A, & Hudgens MG. (2022). Bridged treatment comparisons: an illustrative application in HIV treatment. *arXiv preprint* arXiv:2206.04445."
   ]
  }
 ],
 "metadata": {
  "kernelspec": {
   "display_name": "Python 3",
   "language": "python",
   "name": "python3"
  },
  "language_info": {
   "codemirror_mode": {
    "name": "ipython",
    "version": 3
   },
   "file_extension": ".py",
   "mimetype": "text/x-python",
   "name": "python",
   "nbconvert_exporter": "python",
   "pygments_lexer": "ipython3",
   "version": "3.6.5"
  }
 },
 "nbformat": 4,
 "nbformat_minor": 5
}
